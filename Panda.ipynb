{
  "nbformat": 4,
  "nbformat_minor": 0,
  "metadata": {
    "colab": {
      "name": "Panda.ipynb",
      "provenance": []
    },
    "kernelspec": {
      "name": "python3",
      "display_name": "Python 3"
    },
    "language_info": {
      "name": "python"
    }
  },
  "cells": [
    {
      "cell_type": "code",
      "execution_count": 1,
      "metadata": {
        "id": "D4pkJJcfiA6y"
      },
      "outputs": [],
      "source": [
        "import numpy as np\n",
        "import pandas as pd"
      ]
    },
    {
      "cell_type": "markdown",
      "source": [
        "\n",
        "**Load the countries.csv directly via URL import into your panda data frame!**"
      ],
      "metadata": {
        "id": "-W5y06uJsum9"
      }
    },
    {
      "cell_type": "code",
      "source": [
        "fullcsv = pd.read_csv(\"https://raw.githubusercontent.com/edlich/eternalrepo/master/DS-WAHLFACH/countries.csv\")"
      ],
      "metadata": {
        "id": "0xTawRk_oPOL"
      },
      "execution_count": 2,
      "outputs": []
    },
    {
      "cell_type": "markdown",
      "source": [
        "**Display some basic information as rows, columns and some basic statistical info.**"
      ],
      "metadata": {
        "id": "Apua8agXtdUk"
      }
    },
    {
      "cell_type": "code",
      "source": [
        "print(fullcsv)\n",
        "print(\"-----\")\n",
        "print(fullcsv.info())"
      ],
      "metadata": {
        "colab": {
          "base_uri": "https://localhost:8080/"
        },
        "id": "ykI8DUiLtdoj",
        "outputId": "f12dc08e-f2c6-47a0-f9ee-4854955e39d5"
      },
      "execution_count": 3,
      "outputs": [
        {
          "output_type": "stream",
          "name": "stdout",
          "text": [
            "       Name     People     Area   BIP Currency\n",
            "0   Germany   82521653   357385  3466      EUR\n",
            "1     Japan  126045000   377835  4938      YEN\n",
            "2    Canada   36503097  9984670  1529      CAD\n",
            "3     Italy   60501718   301338  1850      EUR\n",
            "4  Brazilia  208360000  8515770  1798     REAL\n",
            "-----\n",
            "<class 'pandas.core.frame.DataFrame'>\n",
            "RangeIndex: 5 entries, 0 to 4\n",
            "Data columns (total 5 columns):\n",
            " #   Column    Non-Null Count  Dtype \n",
            "---  ------    --------------  ----- \n",
            " 0   Name      5 non-null      object\n",
            " 1   People    5 non-null      int64 \n",
            " 2   Area      5 non-null      int64 \n",
            " 3   BIP       5 non-null      int64 \n",
            " 4   Currency  5 non-null      object\n",
            "dtypes: int64(3), object(2)\n",
            "memory usage: 328.0+ bytes\n",
            "None\n"
          ]
        }
      ]
    },
    {
      "cell_type": "markdown",
      "source": [
        "\n",
        "**Show the last 4 rows of the data frame.**"
      ],
      "metadata": {
        "id": "J_5k867Ttd17"
      }
    },
    {
      "cell_type": "code",
      "source": [
        "print(fullcsv.tail(4))"
      ],
      "metadata": {
        "colab": {
          "base_uri": "https://localhost:8080/"
        },
        "id": "fFaJkmOwtd-8",
        "outputId": "8fe8c14f-3614-42b5-b974-a58440028f80"
      },
      "execution_count": 4,
      "outputs": [
        {
          "output_type": "stream",
          "name": "stdout",
          "text": [
            "       Name     People     Area   BIP Currency\n",
            "1     Japan  126045000   377835  4938      YEN\n",
            "2    Canada   36503097  9984670  1529      CAD\n",
            "3     Italy   60501718   301338  1850      EUR\n",
            "4  Brazilia  208360000  8515770  1798     REAL\n"
          ]
        }
      ]
    },
    {
      "cell_type": "markdown",
      "source": [
        "**Show all the row of countries who have the EURO.**"
      ],
      "metadata": {
        "id": "WHjHLN8zteI8"
      }
    },
    {
      "cell_type": "code",
      "source": [
        "print(fullcsv[fullcsv['Currency']==\"EUR\"])"
      ],
      "metadata": {
        "colab": {
          "base_uri": "https://localhost:8080/"
        },
        "id": "LWy7mBloteQD",
        "outputId": "78a963c2-982f-40ed-d9df-b6aa17d296f2"
      },
      "execution_count": 5,
      "outputs": [
        {
          "output_type": "stream",
          "name": "stdout",
          "text": [
            "      Name    People    Area   BIP Currency\n",
            "0  Germany  82521653  357385  3466      EUR\n",
            "3    Italy  60501718  301338  1850      EUR\n"
          ]
        }
      ]
    },
    {
      "cell_type": "markdown",
      "source": [
        "**Show only name and Currency in a new data frame.**"
      ],
      "metadata": {
        "id": "EH2xckaszv0s"
      }
    },
    {
      "cell_type": "code",
      "source": [
        "smallcsv = pd.DataFrame(fullcsv, columns = ['Name', 'Currency'])\n",
        "print(smallcsv)"
      ],
      "metadata": {
        "colab": {
          "base_uri": "https://localhost:8080/"
        },
        "id": "UhQpt0Ys2Ku0",
        "outputId": "faddc8c2-d541-4080-f351-f69a05778386"
      },
      "execution_count": 6,
      "outputs": [
        {
          "output_type": "stream",
          "name": "stdout",
          "text": [
            "       Name Currency\n",
            "0   Germany      EUR\n",
            "1     Japan      YEN\n",
            "2    Canada      CAD\n",
            "3     Italy      EUR\n",
            "4  Brazilia     REAL\n"
          ]
        }
      ]
    },
    {
      "cell_type": "markdown",
      "source": [
        "**Show only the rows/countries that have more than 2000 BIP (it is in Milliarden USD Bruttoinlandsprodukt)**"
      ],
      "metadata": {
        "id": "bElugUAZzv8r"
      }
    },
    {
      "cell_type": "code",
      "source": [
        "print(fullcsv[fullcsv['BIP']>2000])"
      ],
      "metadata": {
        "colab": {
          "base_uri": "https://localhost:8080/"
        },
        "id": "4Ox5vjYy4vnc",
        "outputId": "c333025b-e693-4dce-be5b-dee3eaca1fa6"
      },
      "execution_count": 7,
      "outputs": [
        {
          "output_type": "stream",
          "name": "stdout",
          "text": [
            "      Name     People    Area   BIP Currency\n",
            "0  Germany   82521653  357385  3466      EUR\n",
            "1    Japan  126045000  377835  4938      YEN\n"
          ]
        }
      ]
    },
    {
      "cell_type": "markdown",
      "source": [
        "**Select all countries where with inhabitants between 50 and 150 Mio**"
      ],
      "metadata": {
        "id": "mR2D6QhizwDW"
      }
    },
    {
      "cell_type": "code",
      "source": [
        "print(fullcsv[(fullcsv['People']>50000000) & (fullcsv['People']<150000000)])"
      ],
      "metadata": {
        "colab": {
          "base_uri": "https://localhost:8080/"
        },
        "id": "7erGQbtl438M",
        "outputId": "7ffdbcef-c07c-4bd6-e1c8-fc0de76fd535"
      },
      "execution_count": 8,
      "outputs": [
        {
          "output_type": "stream",
          "name": "stdout",
          "text": [
            "      Name     People    Area   BIP Currency\n",
            "0  Germany   82521653  357385  3466      EUR\n",
            "1    Japan  126045000  377835  4938      YEN\n",
            "3    Italy   60501718  301338  1850      EUR\n"
          ]
        }
      ]
    },
    {
      "cell_type": "markdown",
      "source": [
        "**Change BIP to Bip**"
      ],
      "metadata": {
        "id": "ZymNokGyzwID"
      }
    },
    {
      "cell_type": "code",
      "source": [
        "fullcsv.rename(columns={'BIP':'Bip'}, inplace=True)\n",
        "print(fullcsv)"
      ],
      "metadata": {
        "colab": {
          "base_uri": "https://localhost:8080/"
        },
        "id": "whMI7Oog7ei-",
        "outputId": "b7be584b-b635-4f19-a4b3-fe771bbf595e"
      },
      "execution_count": 9,
      "outputs": [
        {
          "output_type": "stream",
          "name": "stdout",
          "text": [
            "       Name     People     Area   Bip Currency\n",
            "0   Germany   82521653   357385  3466      EUR\n",
            "1     Japan  126045000   377835  4938      YEN\n",
            "2    Canada   36503097  9984670  1529      CAD\n",
            "3     Italy   60501718   301338  1850      EUR\n",
            "4  Brazilia  208360000  8515770  1798     REAL\n"
          ]
        }
      ]
    },
    {
      "cell_type": "markdown",
      "source": [
        "**Calculate the Bip sum**"
      ],
      "metadata": {
        "id": "fg1iK4sDzwMe"
      }
    },
    {
      "cell_type": "code",
      "source": [
        "print(fullcsv['Bip'].sum())"
      ],
      "metadata": {
        "colab": {
          "base_uri": "https://localhost:8080/"
        },
        "id": "ZqgSs4kE-nVz",
        "outputId": "61992356-60da-453e-e0a8-2fb5d89e4c3f"
      },
      "execution_count": 10,
      "outputs": [
        {
          "output_type": "stream",
          "name": "stdout",
          "text": [
            "13581\n"
          ]
        }
      ]
    },
    {
      "cell_type": "markdown",
      "source": [
        "**Calculate the average people of all countries**"
      ],
      "metadata": {
        "id": "n8x2WVhd0QZL"
      }
    },
    {
      "cell_type": "code",
      "source": [
        "print(fullcsv['People'].sum() / len(fullcsv))"
      ],
      "metadata": {
        "colab": {
          "base_uri": "https://localhost:8080/"
        },
        "id": "LsKB_BjF-nyz",
        "outputId": "fefc0445-9b5a-4d76-ee74-1fbdafc22026"
      },
      "execution_count": 11,
      "outputs": [
        {
          "output_type": "stream",
          "name": "stdout",
          "text": [
            "102786293.6\n"
          ]
        }
      ]
    },
    {
      "cell_type": "markdown",
      "source": [
        "**Sort by name alphabetically**"
      ],
      "metadata": {
        "id": "2iMjFBl5zwP7"
      }
    },
    {
      "cell_type": "code",
      "source": [
        "csvsorted = fullcsv.sort_values('Name')\n",
        "print(csvsorted)"
      ],
      "metadata": {
        "colab": {
          "base_uri": "https://localhost:8080/"
        },
        "id": "-5dbj8fe-oPM",
        "outputId": "174b5159-8002-4a25-933f-4dcc114aedc8"
      },
      "execution_count": 12,
      "outputs": [
        {
          "output_type": "stream",
          "name": "stdout",
          "text": [
            "       Name     People     Area   Bip Currency\n",
            "4  Brazilia  208360000  8515770  1798     REAL\n",
            "2    Canada   36503097  9984670  1529      CAD\n",
            "0   Germany   82521653   357385  3466      EUR\n",
            "3     Italy   60501718   301338  1850      EUR\n",
            "1     Japan  126045000   377835  4938      YEN\n"
          ]
        }
      ]
    },
    {
      "cell_type": "markdown",
      "source": [
        "**Create a new data frame from the original where the area is changed as follows: all countries with > 1000000 get BIG and <= 1000000 get SMALL in the cell replaced!**"
      ],
      "metadata": {
        "id": "nZP45aR30EKE"
      }
    },
    {
      "cell_type": "code",
      "source": [
        "sizecsv = fullcsv\n",
        "sizecsv[\"Area\"] = np.where(sizecsv[\"Area\"] > 1000000, \"BIG\", \"SMALL\")\n",
        "print(sizecsv)"
      ],
      "metadata": {
        "colab": {
          "base_uri": "https://localhost:8080/"
        },
        "id": "pkVgaCPC-opz",
        "outputId": "7b3046de-e247-49ac-8395-e8681df67b5b"
      },
      "execution_count": 13,
      "outputs": [
        {
          "output_type": "stream",
          "name": "stdout",
          "text": [
            "       Name     People   Area   Bip Currency\n",
            "0   Germany   82521653  SMALL  3466      EUR\n",
            "1     Japan  126045000  SMALL  4938      YEN\n",
            "2    Canada   36503097    BIG  1529      CAD\n",
            "3     Italy   60501718  SMALL  1850      EUR\n",
            "4  Brazilia  208360000    BIG  1798     REAL\n"
          ]
        }
      ]
    }
  ]
}
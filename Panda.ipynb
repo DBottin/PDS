{
  "nbformat": 4,
  "nbformat_minor": 0,
  "metadata": {
    "colab": {
      "name": "Panda.ipynb",
      "provenance": []
    },
    "kernelspec": {
      "name": "python3",
      "display_name": "Python 3"
    },
    "language_info": {
      "name": "python"
    }
  },
  "cells": [
    {
      "cell_type": "code",
      "execution_count": null,
      "metadata": {
        "id": "D4pkJJcfiA6y"
      },
      "outputs": [],
      "source": [
        "import numpy as np\n",
        "import pandas as pd"
      ]
    },
    {
      "cell_type": "markdown",
      "source": [
        "Load the countries.csv directly via URL import into your panda data frame!"
      ],
      "metadata": {
        "id": "-W5y06uJsum9"
      }
    },
    {
      "cell_type": "code",
      "source": [
        "fullcsv = pd.read_csv(\"https://raw.githubusercontent.com/edlich/eternalrepo/master/DS-WAHLFACH/countries.csv\")"
      ],
      "metadata": {
        "id": "0xTawRk_oPOL"
      },
      "execution_count": null,
      "outputs": []
    },
    {
      "cell_type": "markdown",
      "source": [
        "Display some basic information as rows, columns and some basic statistical info."
      ],
      "metadata": {
        "id": "Apua8agXtdUk"
      }
    },
    {
      "cell_type": "code",
      "source": [
        "print(fullcsv)\n",
        "print(\"-----\")\n",
        "print(fullcsv.info())"
      ],
      "metadata": {
        "id": "ykI8DUiLtdoj"
      },
      "execution_count": null,
      "outputs": []
    },
    {
      "cell_type": "markdown",
      "source": [
        "Show the last 4 rows of the data frame."
      ],
      "metadata": {
        "id": "J_5k867Ttd17"
      }
    },
    {
      "cell_type": "code",
      "source": [
        "print(fullcsv.tail(4))"
      ],
      "metadata": {
        "id": "fFaJkmOwtd-8"
      },
      "execution_count": null,
      "outputs": []
    },
    {
      "cell_type": "markdown",
      "source": [
        "Show all the row of countries who have the EURO."
      ],
      "metadata": {
        "id": "WHjHLN8zteI8"
      }
    },
    {
      "cell_type": "code",
      "source": [
        "print(fullcsv[fullcsv['Currency']==\"EUR\"])"
      ],
      "metadata": {
        "id": "LWy7mBloteQD"
      },
      "execution_count": null,
      "outputs": []
    },
    {
      "cell_type": "markdown",
      "source": [
        "Show only name and Currency in a new data frame."
      ],
      "metadata": {
        "id": "EH2xckaszv0s"
      }
    },
    {
      "cell_type": "code",
      "source": [
        "smallcsv = pd.DataFrame(fullcsv, columns = ['Name', 'Currency'])\n",
        "print(smallcsv)"
      ],
      "metadata": {
        "id": "UhQpt0Ys2Ku0"
      },
      "execution_count": null,
      "outputs": []
    },
    {
      "cell_type": "markdown",
      "source": [
        "Show only the rows/countries that have more than 2000 BIP (it is in Milliarden USD Bruttoinlandsprodukt)"
      ],
      "metadata": {
        "id": "bElugUAZzv8r"
      }
    },
    {
      "cell_type": "code",
      "source": [
        "print(fullcsv[fullcsv['BIP']>2000])"
      ],
      "metadata": {
        "id": "4Ox5vjYy4vnc"
      },
      "execution_count": null,
      "outputs": []
    },
    {
      "cell_type": "markdown",
      "source": [
        "Select all countries where with inhabitants between 50 and 150 Mio"
      ],
      "metadata": {
        "id": "mR2D6QhizwDW"
      }
    },
    {
      "cell_type": "code",
      "source": [
        "print(fullcsv[(fullcsv['People']>50000000) & (fullcsv['People']<150000000)])"
      ],
      "metadata": {
        "id": "7erGQbtl438M"
      },
      "execution_count": null,
      "outputs": []
    },
    {
      "cell_type": "markdown",
      "source": [
        "Change BIP to Bip"
      ],
      "metadata": {
        "id": "ZymNokGyzwID"
      }
    },
    {
      "cell_type": "code",
      "source": [
        "fullcsv.rename(columns={'BIP':'Bip'}, inplace=True)\n",
        "print(fullcsv)"
      ],
      "metadata": {
        "id": "whMI7Oog7ei-"
      },
      "execution_count": null,
      "outputs": []
    },
    {
      "cell_type": "markdown",
      "source": [
        "Calculate the Bip sum"
      ],
      "metadata": {
        "id": "fg1iK4sDzwMe"
      }
    },
    {
      "cell_type": "markdown",
      "source": [
        "Calculate the average people of all countries"
      ],
      "metadata": {
        "id": "n8x2WVhd0QZL"
      }
    },
    {
      "cell_type": "markdown",
      "source": [
        "Sort by name alphabetically"
      ],
      "metadata": {
        "id": "2iMjFBl5zwP7"
      }
    },
    {
      "cell_type": "markdown",
      "source": [
        "Create a new data frame from the original where the area is changed as follows: all countries with > 1000000 get BIG and <= 1000000 get SMALL in the cell replaced!"
      ],
      "metadata": {
        "id": "nZP45aR30EKE"
      }
    }
  ]
}
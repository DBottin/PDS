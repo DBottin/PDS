{
  "nbformat": 4,
  "nbformat_minor": 0,
  "metadata": {
    "colab": {
      "name": "Panda.ipynb",
      "provenance": []
    },
    "kernelspec": {
      "name": "python3",
      "display_name": "Python 3"
    },
    "language_info": {
      "name": "python"
    }
  },
  "cells": [
    {
      "cell_type": "code",
      "execution_count": 54,
      "metadata": {
        "id": "D4pkJJcfiA6y"
      },
      "outputs": [],
      "source": [
        "import numpy as np\n",
        "import pandas as pd"
      ]
    },
    {
      "cell_type": "markdown",
      "source": [
        "Load the countries.csv directly via URL import into your panda data frame!"
      ],
      "metadata": {
        "id": "-W5y06uJsum9"
      }
    },
    {
      "cell_type": "code",
      "source": [
        "fullcsv = pd.read_csv(\"https://raw.githubusercontent.com/edlich/eternalrepo/master/DS-WAHLFACH/countries.csv\")"
      ],
      "metadata": {
        "id": "0xTawRk_oPOL"
      },
      "execution_count": 55,
      "outputs": []
    },
    {
      "cell_type": "markdown",
      "source": [
        "Display some basic information as rows, columns and some basic statistical info."
      ],
      "metadata": {
        "id": "Apua8agXtdUk"
      }
    },
    {
      "cell_type": "code",
      "source": [
        "print(fullcsv)\n",
        "print(\"-----\")\n",
        "print(fullcsv.info())"
      ],
      "metadata": {
        "colab": {
          "base_uri": "https://localhost:8080/"
        },
        "id": "ykI8DUiLtdoj",
        "outputId": "20524861-3b4d-4235-dac4-d4a25df869d0"
      },
      "execution_count": 56,
      "outputs": [
        {
          "output_type": "stream",
          "name": "stdout",
          "text": [
            "       Name     People     Area   BIP Currency\n",
            "0   Germany   82521653   357385  3466      EUR\n",
            "1     Japan  126045000   377835  4938      YEN\n",
            "2    Canada   36503097  9984670  1529      CAD\n",
            "3     Italy   60501718   301338  1850      EUR\n",
            "4  Brazilia  208360000  8515770  1798     REAL\n",
            "-----\n",
            "<class 'pandas.core.frame.DataFrame'>\n",
            "RangeIndex: 5 entries, 0 to 4\n",
            "Data columns (total 5 columns):\n",
            " #   Column    Non-Null Count  Dtype \n",
            "---  ------    --------------  ----- \n",
            " 0   Name      5 non-null      object\n",
            " 1   People    5 non-null      int64 \n",
            " 2   Area      5 non-null      int64 \n",
            " 3   BIP       5 non-null      int64 \n",
            " 4   Currency  5 non-null      object\n",
            "dtypes: int64(3), object(2)\n",
            "memory usage: 328.0+ bytes\n",
            "None\n"
          ]
        }
      ]
    },
    {
      "cell_type": "markdown",
      "source": [
        "Show the last 4 rows of the data frame."
      ],
      "metadata": {
        "id": "J_5k867Ttd17"
      }
    },
    {
      "cell_type": "code",
      "source": [
        "print(fullcsv.tail(4))"
      ],
      "metadata": {
        "colab": {
          "base_uri": "https://localhost:8080/"
        },
        "id": "fFaJkmOwtd-8",
        "outputId": "f9210350-bc95-4481-898b-2e5dc29561e0"
      },
      "execution_count": 57,
      "outputs": [
        {
          "output_type": "stream",
          "name": "stdout",
          "text": [
            "       Name     People     Area   BIP Currency\n",
            "1     Japan  126045000   377835  4938      YEN\n",
            "2    Canada   36503097  9984670  1529      CAD\n",
            "3     Italy   60501718   301338  1850      EUR\n",
            "4  Brazilia  208360000  8515770  1798     REAL\n"
          ]
        }
      ]
    },
    {
      "cell_type": "markdown",
      "source": [
        "Show all the row of countries who have the EURO."
      ],
      "metadata": {
        "id": "WHjHLN8zteI8"
      }
    },
    {
      "cell_type": "code",
      "source": [
        "print(fullcsv[fullcsv['Currency']==\"EUR\"])"
      ],
      "metadata": {
        "colab": {
          "base_uri": "https://localhost:8080/"
        },
        "id": "LWy7mBloteQD",
        "outputId": "bf2f5c62-b0bc-48d6-e754-b01521620b2c"
      },
      "execution_count": 58,
      "outputs": [
        {
          "output_type": "stream",
          "name": "stdout",
          "text": [
            "      Name    People    Area   BIP Currency\n",
            "0  Germany  82521653  357385  3466      EUR\n",
            "3    Italy  60501718  301338  1850      EUR\n"
          ]
        }
      ]
    },
    {
      "cell_type": "markdown",
      "source": [
        "Show only name and Currency in a new data frame."
      ],
      "metadata": {
        "id": "EH2xckaszv0s"
      }
    },
    {
      "cell_type": "code",
      "source": [
        "smallcsv = pd.DataFrame(fullcsv, columns = ['Name', 'Currency'])\n",
        "print(smallcsv)"
      ],
      "metadata": {
        "colab": {
          "base_uri": "https://localhost:8080/"
        },
        "id": "UhQpt0Ys2Ku0",
        "outputId": "0acec9b2-2845-43e0-d9ad-967217242a3e"
      },
      "execution_count": 59,
      "outputs": [
        {
          "output_type": "stream",
          "name": "stdout",
          "text": [
            "       Name Currency\n",
            "0   Germany      EUR\n",
            "1     Japan      YEN\n",
            "2    Canada      CAD\n",
            "3     Italy      EUR\n",
            "4  Brazilia     REAL\n"
          ]
        }
      ]
    },
    {
      "cell_type": "markdown",
      "source": [
        "Show only the rows/countries that have more than 2000 BIP (it is in Milliarden USD Bruttoinlandsprodukt)"
      ],
      "metadata": {
        "id": "bElugUAZzv8r"
      }
    },
    {
      "cell_type": "code",
      "source": [
        "print(fullcsv[fullcsv['BIP']>2000])"
      ],
      "metadata": {
        "colab": {
          "base_uri": "https://localhost:8080/"
        },
        "id": "4Ox5vjYy4vnc",
        "outputId": "18b74126-4b2d-4764-cbd9-0c82eb7d8bdf"
      },
      "execution_count": 60,
      "outputs": [
        {
          "output_type": "stream",
          "name": "stdout",
          "text": [
            "      Name     People    Area   BIP Currency\n",
            "0  Germany   82521653  357385  3466      EUR\n",
            "1    Japan  126045000  377835  4938      YEN\n"
          ]
        }
      ]
    },
    {
      "cell_type": "markdown",
      "source": [
        "Select all countries where with inhabitants between 50 and 150 Mio"
      ],
      "metadata": {
        "id": "mR2D6QhizwDW"
      }
    },
    {
      "cell_type": "code",
      "source": [
        "print(fullcsv[(fullcsv['People']>50000000) & (fullcsv['People']<150000000)])"
      ],
      "metadata": {
        "colab": {
          "base_uri": "https://localhost:8080/"
        },
        "id": "7erGQbtl438M",
        "outputId": "6e57be63-926f-4073-9f4a-4f37be627c8e"
      },
      "execution_count": 61,
      "outputs": [
        {
          "output_type": "stream",
          "name": "stdout",
          "text": [
            "      Name     People    Area   BIP Currency\n",
            "0  Germany   82521653  357385  3466      EUR\n",
            "1    Japan  126045000  377835  4938      YEN\n",
            "3    Italy   60501718  301338  1850      EUR\n"
          ]
        }
      ]
    },
    {
      "cell_type": "markdown",
      "source": [
        "Change BIP to Bip"
      ],
      "metadata": {
        "id": "ZymNokGyzwID"
      }
    },
    {
      "cell_type": "code",
      "source": [
        "fullcsv.rename(columns={'BIP':'Bip'}, inplace=True)\n",
        "print(fullcsv)"
      ],
      "metadata": {
        "colab": {
          "base_uri": "https://localhost:8080/"
        },
        "id": "whMI7Oog7ei-",
        "outputId": "693ed645-c300-4a99-fca8-2bb7ecdbbfb3"
      },
      "execution_count": 62,
      "outputs": [
        {
          "output_type": "stream",
          "name": "stdout",
          "text": [
            "       Name     People     Area   Bip Currency\n",
            "0   Germany   82521653   357385  3466      EUR\n",
            "1     Japan  126045000   377835  4938      YEN\n",
            "2    Canada   36503097  9984670  1529      CAD\n",
            "3     Italy   60501718   301338  1850      EUR\n",
            "4  Brazilia  208360000  8515770  1798     REAL\n"
          ]
        }
      ]
    },
    {
      "cell_type": "markdown",
      "source": [
        "Calculate the Bip sum"
      ],
      "metadata": {
        "id": "fg1iK4sDzwMe"
      }
    },
    {
      "cell_type": "markdown",
      "source": [
        "Calculate the average people of all countries"
      ],
      "metadata": {
        "id": "n8x2WVhd0QZL"
      }
    },
    {
      "cell_type": "markdown",
      "source": [
        "Sort by name alphabetically"
      ],
      "metadata": {
        "id": "2iMjFBl5zwP7"
      }
    },
    {
      "cell_type": "markdown",
      "source": [
        "Create a new data frame from the original where the area is changed as follows: all countries with > 1000000 get BIG and <= 1000000 get SMALL in the cell replaced!"
      ],
      "metadata": {
        "id": "nZP45aR30EKE"
      }
    }
  ]
}